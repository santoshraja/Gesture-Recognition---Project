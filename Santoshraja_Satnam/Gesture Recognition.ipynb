{
 "cells": [
  {
   "cell_type": "markdown",
   "metadata": {},
   "source": [
    "# Gesture Recognition\n",
    "In this group project, you are going to build a 3D Conv model that will be able to predict the 5 gestures correctly. Please import the following libraries to get started."
   ]
  },
  {
   "cell_type": "code",
   "execution_count": 158,
   "metadata": {},
   "outputs": [],
   "source": [
    "import numpy as np\n",
    "import os\n",
    "##from scipy.misc.pilutil import imread, imresize\n",
    "from PIL import Image\n",
    "import datetime\n",
    "import os\n",
    "from PIL import Image, ImageFilter, ImageEnhance\n",
    "import matplotlib.pyplot as plt\n",
    "%matplotlib inline\n",
    "import warnings\n",
    "warnings.filterwarnings(\"ignore\")"
   ]
  },
  {
   "cell_type": "markdown",
   "metadata": {},
   "source": [
    "We set the random seed so that the results don't vary drastically."
   ]
  },
  {
   "cell_type": "code",
   "execution_count": 159,
   "metadata": {},
   "outputs": [],
   "source": [
    "import os\n",
    "os.environ['PYTHONHASHSEED']=\"30\"\n",
    "np.random.seed(30)\n",
    "import random as rn\n",
    "rn.seed(30)\n",
    "import tensorflow as tf\n",
    "#tf.set_random_seed(30)\n",
    "tf.random.set_seed(30)\n",
    "from keras import backend as K"
   ]
  },
  {
   "cell_type": "markdown",
   "metadata": {},
   "source": [
    "In this block, you read the folder names for training and validation. You also set the `batch_size` here. Note that you set the batch size in such a way that you are able to use the GPU in full capacity. You keep increasing the batch size until the machine throws an error."
   ]
  },
  {
   "cell_type": "code",
   "execution_count": 160,
   "metadata": {},
   "outputs": [],
   "source": [
    "# train and validatiaon data creator with ablation\n",
    "# when ablation is 10, then 10 folders for each label will be selected.\n",
    "def get_data(path, ablation=None):\n",
    "    train_doc = np.random.permutation(open(path+'train.csv').readlines())\n",
    "    val_doc = np.random.permutation(open(path+'val.csv').readlines())\n",
    "    counts = np.zeros(5) # count for loading folders for 5 classes\n",
    "    train_data = []\n",
    "    val_data = []\n",
    "    # when ablation is None pass full training and val data\n",
    "    if ablation is not None:\n",
    "        # iterating train doc\n",
    "        for doc in train_doc:\n",
    "            lable = int(doc.strip().split(';')[2])\n",
    "            if counts[lable] < ablation:\n",
    "                train_data.append(doc)\n",
    "                counts[lable] += 1 \n",
    "        counts = np.zeros(5)\n",
    "        # iterating val doc\n",
    "        for doc in val_doc:\n",
    "            lable = int(doc.strip().split(';')[2])\n",
    "            if counts[lable] < ablation:\n",
    "                val_data.append(doc)\n",
    "                counts[lable] += 1\n",
    "    else:\n",
    "        train_data, val_data = train_doc, val_doc\n",
    "    return train_data, val_data"
   ]
  },
  {
   "cell_type": "code",
   "execution_count": 161,
   "metadata": {},
   "outputs": [],
   "source": [
    "train_doc, val_doc = get_data('datasets/Project_data/', ablation=None)\n",
    "batch_size = 32 # experiment with the batch size\n",
    "enable_augmentation = False # augmentation of Data\n",
    "# sequence ids\n",
    "# selecting alternate frames from 7 to 26.\n",
    "seq_idx = range(7,26,2)\n",
    "# image dimensions\n",
    "dim_x, dim_y = 120, 120"
   ]
  },
  {
   "cell_type": "markdown",
   "metadata": {},
   "source": [
    "## Generator\n",
    "This is one of the most important part of the code. The overall structure of the generator has been given. In the generator, you are going to preprocess the images as you have images of 2 different dimensions as well as create a batch of video frames. You have to experiment with `img_idx`, `y`,`z` and normalization such that you get high accuracy."
   ]
  },
  {
   "cell_type": "code",
   "execution_count": 162,
   "metadata": {
    "scrolled": true
   },
   "outputs": [],
   "source": [
    "# generator with augmentation for train data\n",
    "def generator(source_path, folder_list, batch_size, is_train = False, augmention = False, debug=False):\n",
    "    # print('\\nSource path = ', source_path, '; batch size =', batch_size)\n",
    "    img_idx = seq_idx #create a list of image numbers you want to use for a particular video\n",
    "    x = len(img_idx)\n",
    "    y, z = dim_x, dim_y\n",
    "    while True:\n",
    "        # doubling the data for augmentation\n",
    "        if is_train and augmention:\n",
    "            t = np.concatenate((np.random.permutation(folder_list), np.random.permutation(folder_list)))\n",
    "        else:\n",
    "            t = np.random.permutation(folder_list)\n",
    "            \n",
    "        if (len(t)%batch_size) == 0:\n",
    "            num_batches = int(len(t)/batch_size)\n",
    "        else:\n",
    "            num_batches = len(t)//batch_size + 1\n",
    "            \n",
    "        for batch in range(num_batches): # we iterate over the number of batches\n",
    "            batch_data = np.zeros((batch_size,x,y,z,3)) # x is the number of images you use for each video, (y,z) is the final size of the input images and 3 is the number of channels RGB\n",
    "            batch_labels = np.zeros((batch_size,5)) # batch_labels is the one hot representation of the output\n",
    "            for folder in range(batch_size): # iterate over the batch_size\n",
    "                #if debug:\n",
    "                   # plt.figure(figsize=(20,5))\n",
    "                #handling remaining datapoints\n",
    "                folder_idx = folder + (batch*batch_size)\n",
    "                if folder_idx >= len(t):\n",
    "                    break\n",
    "                folder_str = t[folder_idx]\n",
    "                imgs = os.listdir(source_path+'/'+ folder_str.split(';')[0]) # read all the images in the folder\n",
    "                # randomly enabling augmentation and augmentation type\n",
    "                aug_type = None\n",
    "                if is_train and augmention and rn.randint(0,1) == 1:\n",
    "                    aug_type = rn.randint(0, 4) #randomly selecting augmentation type\n",
    "                for idx,item in enumerate(img_idx): #  Iterate iver the frames/images of a folder to read them in\n",
    "                   # image = imread(source_path+'/'+ folder_str.strip().split(';')[0]+'/'+imgs[item]).astype(np.float32)\n",
    "                    #image = Image(source_path+'/'+ folder_str.strip().split(';')[0]+'/'+imgs[item]).astype(np.float32)\n",
    "                    image_path = source_path + '/' + folder_str.strip().split(';')[0] + '/' + imgs[item]\n",
    "                    image = Image.open(image_path)  # Open the image\n",
    "                    resized_im = image.resize((y, z))\n",
    "                    image = np.array(image).astype(np.float32)  # Convert to numpy array and cast to float32\n",
    "                    if image.shape[1] > image.shape[0]:\n",
    "                            diff_px = image.shape[1] - image.shape[0]\n",
    "                            crop_start = diff_px//2\n",
    "                            crop_end = crop_start + image.shape[0]\n",
    "                            image = image[:, crop_start:crop_end]\n",
    "                    elif image.shape[0] > image.shape[1]:\n",
    "                            diff_px = image.shape[0] - image.shape[1]\n",
    "                            crop_start = diff_px//2\n",
    "                            crop_end = crop_start + image.shape[1]\n",
    "                            image = image[:, crop_start:crop_end]\n",
    "\n",
    "                    #resized_im = imresize(image, size=(y,z))\n",
    "                    resized_im = np.array(resized_im)\n",
    "                    \n",
    "\n",
    "                    if aug_type is not None:\n",
    "                            if aug_type == 0: # edge Enhancement\n",
    "                                resized_im = np.array(Image.fromarray(resized_im, 'RGB').filter(ImageFilter.EDGE_ENHANCE))\n",
    "                            elif aug_type == 1: # adding gaussian blur\n",
    "                                resized_im = np.array(Image.fromarray(resized_im, 'RGB').filter(ImageFilter.GaussianBlur(1)))\n",
    "                            elif aug_type == 2: # enchancing image detailing\n",
    "                                resized_im = np.array(Image.fromarray(resized_im, 'RGB').filter(ImageFilter.DETAIL))\n",
    "                            elif aug_type == 3: # sharpening image\n",
    "                                resized_im = np.array(Image.fromarray(resized_im, 'RGB').filter(ImageFilter.SHARPEN))\n",
    "                            elif aug_type == 4: # Brightness enhancement\n",
    "                                resized_im = np.array(ImageEnhance.Brightness((Image.fromarray(resized_im, 'RGB'))).enhance(1.5))\n",
    "                    batch_data[folder,idx,:,:,0] = resized_im[:,:,0]/255 #normalise and feed in the image\n",
    "                    batch_data[folder,idx,:,:,1] = resized_im[:,:,1]/255 #normalise and feed in the image\n",
    "                    batch_data[folder,idx,:,:,2] = resized_im[:,:,2]/255 #normalise and feed in the image\n",
    "\n",
    "                    batch_labels[folder, int(folder_str.strip().split(';')[2])] = 1\n",
    "            yield batch_data, batch_labels #you yield the batch_data and the batch_labels, remember what does yield do\n",
    "                "
   ]
  },
  {
   "cell_type": "markdown",
   "metadata": {},
   "source": [
    "Note here that a video is represented above in the generator as (number of images, height, width, number of channels). Take this into consideration while creating the model architecture."
   ]
  },
  {
   "cell_type": "code",
   "execution_count": 163,
   "metadata": {},
   "outputs": [
    {
     "name": "stdout",
     "output_type": "stream",
     "text": [
      "# training sequences = 663\n",
      "# validation sequences = 100\n",
      "# epochs = 50\n"
     ]
    }
   ],
   "source": [
    "curr_dt_time = datetime.datetime.now()\n",
    "train_path = 'datasets/Project_data/train' #'/notebooks/storage/Final_data/Collated_training/train'\n",
    "val_path =  'datasets/Project_data/val' #'/notebooks/storage/Final_data/Collated_training/val'\n",
    "\n",
    "#multiply number train seq by 2 when using augmentation\n",
    "multiplier = 1\n",
    "if enable_augmentation:\n",
    "    multiplier = 2\n",
    "num_train_sequences = len(train_doc)*multiplier\n",
    "print('# training sequences =', num_train_sequences)\n",
    "\n",
    "num_val_sequences = len(val_doc)\n",
    "print('# validation sequences =', num_val_sequences)\n",
    "\n",
    "num_epochs = 50 # choose the number of epochs\n",
    "print ('# epochs =', num_epochs)"
   ]
  },
  {
   "cell_type": "code",
   "execution_count": 164,
   "metadata": {},
   "outputs": [],
   "source": [
    "# testing generative \n",
    "test_gen = generator(train_path, train_doc, 1, is_train = True, augmention = True, debug = True)\n",
    "d = next(test_gen)[0]"
   ]
  },
  {
   "cell_type": "markdown",
   "metadata": {},
   "source": [
    "## Model\n",
    "Here you make the model using different functionalities that Keras provides. Remember to use `Conv3D` and `MaxPooling3D` and not `Conv2D` and `Maxpooling2D` for a 3D convolution model. You would want to use `TimeDistributed` while building a Conv2D + RNN model. Also remember that the last layer is the softmax. Design the network in such a way that the model is able to give good accuracy on the least number of parameters so that it can fit in the memory of the webcam."
   ]
  },
  {
   "cell_type": "code",
   "execution_count": 165,
   "metadata": {},
   "outputs": [],
   "source": [
    "from keras.models import Sequential, Model\n",
    "from keras.layers import Dense, GRU, Flatten, TimeDistributed, Bidirectional, BatchNormalization, Activation, Dropout, GlobalAveragePooling2D, GlobalAveragePooling3D, ConvLSTM2D\n",
    "from keras.layers.convolutional import Conv2D, Conv3D, MaxPooling2D, MaxPooling3D\n",
    "from keras.callbacks import ModelCheckpoint, ReduceLROnPlateau\n",
    "from keras import optimizers\n",
    "\n",
    "#input shape for the st layer\n",
    "input_shape = (len(seq_idx), dim_x, dim_y, 3)\n",
    "np.random.seed(30)"
   ]
  },
  {
   "cell_type": "markdown",
   "metadata": {},
   "source": [
    "### Experiment - 1 & 2\n",
    "**Conv3D**"
   ]
  },
  {
   "cell_type": "code",
   "execution_count": 166,
   "metadata": {},
   "outputs": [],
   "source": [
    "#model = Sequential()\n",
    "#model.add(Conv3D(32, kernel_size=3, activation='relu', input_shape=input_shape))\n",
    "#model.add(MaxPooling3D(pool_size=2))\n",
    "\n",
    "#model.add(Conv3D(64, kernel_size=3, activation='relu'))\n",
    "#model.add(MaxPooling3D(pool_size=2))\n",
    "\n",
    "#model.add(Flatten())\n",
    "#model.add(Dense(256, activation='relu'))\n",
    "#model.add(Dense(5, activation='softmax'))"
   ]
  },
  {
   "cell_type": "markdown",
   "metadata": {},
   "source": [
    "### Experiment - 3\n",
    "**Conv3D**"
   ]
  },
  {
   "cell_type": "code",
   "execution_count": 167,
   "metadata": {},
   "outputs": [],
   "source": [
    "#model = Sequential()\n",
    "\n",
    "#model.add(Conv3D(32, kernel_size=3, activation='relu', input_shape=input_shape))\n",
    "#model.add(Conv3D(64, kernel_size=3, activation='relu'))\n",
    "#model.add(MaxPooling3D(pool_size=(1, 2, 2)))\n",
    "\n",
    "#model.add(Conv3D(128, kernel_size=3, activation='relu'))\n",
    "#model.add(MaxPooling3D(pool_size=(1, 2, 2)))\n",
    "\n",
    "#model.add(Conv3D(256, kernel_size=(3, 3, 3), activation='relu'))\n",
    "#model.add(MaxPooling3D(pool_size=(1, 2, 2)))\n",
    "\n",
    "#model.add(Conv3D(512, kernel_size=(1, 3, 3), activation='relu'))\n",
    "#model.add(Conv3D(512, kernel_size=(1, 3, 3), activation='relu'))\n",
    "#model.add(MaxPooling3D(pool_size=(1, 2, 2)))\n",
    "\n",
    "#model.add(Flatten())\n",
    "#model.add(Dense(512, activation='relu'))\n",
    "#model.add(Dense(5, activation='softmax'))"
   ]
  },
  {
   "cell_type": "markdown",
   "metadata": {},
   "source": [
    "### Experiment - 4\n",
    "**Conv3D**"
   ]
  },
  {
   "cell_type": "code",
   "execution_count": 168,
   "metadata": {},
   "outputs": [],
   "source": [
    "#model = Sequential()\n",
    "\n",
    "#model.add(Conv3D(32, kernel_size=3, activation='relu', input_shape=input_shape))\n",
    "#model.add(Conv3D(64, kernel_size=3, activation='relu'))\n",
    "#model.add(MaxPooling3D(pool_size=(2, 2, 2)))\n",
    "\n",
    "#model.add(Conv3D(128, kernel_size=3, activation='relu'))\n",
    "#model.add(MaxPooling3D(pool_size=(1, 2, 2)))\n",
    "\n",
    "#model.add(Conv3D(256, kernel_size=(1, 3, 3), activation='relu'))\n",
    "#model.add(MaxPooling3D(pool_size=(1, 2, 2)))\n",
    "\n",
    "#model.add(Conv3D(512, kernel_size=(1, 3, 3), activation='relu'))\n",
    "#model.add(Conv3D(512, kernel_size=(1, 3, 3), activation='relu'))\n",
    "#model.add(MaxPooling3D(pool_size=(1, 2, 2)))\n",
    "\n",
    "#model.add(Flatten())\n",
    "#model.add(Dense(512, activation='relu'))\n",
    "#model.add(Dense(5, activation='softmax'))"
   ]
  },
  {
   "cell_type": "markdown",
   "metadata": {},
   "source": [
    "### Experiment - 5 & 6\n",
    "**Conv3D**"
   ]
  },
  {
   "cell_type": "code",
   "execution_count": 169,
   "metadata": {},
   "outputs": [],
   "source": [
    "# model = Sequential()\n",
    "\n",
    "# model.add(Conv3D(32, kernel_size=3, activation='relu', input_shape=input_shape))\n",
    "# model.add(Conv3D(64, kernel_size=3, activation='relu'))\n",
    "# model.add(MaxPooling3D(pool_size=(2, 2, 2)))\n",
    "# model.add(BatchNormalization())\n",
    "\n",
    "# model.add(Conv3D(128, kernel_size=3, activation='relu'))\n",
    "# model.add(MaxPooling3D(pool_size=(1, 2, 2)))\n",
    "# model.add(BatchNormalization())\n",
    "\n",
    "# model.add(Conv3D(256, kernel_size=(1, 3, 3), activation='relu'))\n",
    "# model.add(MaxPooling3D(pool_size=(1, 2, 2)))\n",
    "# model.add(BatchNormalization())\n",
    "\n",
    "# model.add(Conv3D(512, kernel_size=(1, 3, 3), activation='relu'))\n",
    "# model.add(Conv3D(512, kernel_size=(1, 3, 3), activation='relu'))\n",
    "# model.add(MaxPooling3D(pool_size=(1, 2, 2)))\n",
    "# model.add(BatchNormalization())\n",
    "\n",
    "# model.add(Flatten())\n",
    "# model.add(Dense(512, activation='relu'))\n",
    "# model.add(BatchNormalization())\n",
    "# model.add(Dense(5, activation='softmax'))"
   ]
  },
  {
   "cell_type": "markdown",
   "metadata": {},
   "source": [
    "### Experiment - 7 & 8\n",
    "**Conv3D**"
   ]
  },
  {
   "cell_type": "code",
   "execution_count": 170,
   "metadata": {},
   "outputs": [],
   "source": [
    "# model = Sequential()\n",
    "\n",
    "# model.add(Conv3D(32, kernel_size=3, activation='relu', input_shape=input_shape))\n",
    "# model.add(Conv3D(64, kernel_size=3, activation='relu'))\n",
    "# model.add(MaxPooling3D(pool_size=(2, 2, 2)))\n",
    "# model.add(BatchNormalization())\n",
    "# #model.add(Dropout(0.2))\n",
    "# model.add(Dropout(0.5))\n",
    "\n",
    "# model.add(Conv3D(128, kernel_size=3, activation='relu'))\n",
    "# model.add(MaxPooling3D(pool_size=(1, 2, 2)))\n",
    "# model.add(BatchNormalization())\n",
    "# #model.add(Dropout(0.2))\n",
    "# model.add(Dropout(0.5))\n",
    "\n",
    "# model.add(Conv3D(256, kernel_size=(1, 3, 3), activation='relu'))\n",
    "# model.add(MaxPooling3D(pool_size=(1, 2, 2)))\n",
    "# model.add(BatchNormalization())\n",
    "# #model.add(Dropout(0.2))\n",
    "# model.add(Dropout(0.5))\n",
    "\n",
    "# model.add(Conv3D(512, kernel_size=(1, 3, 3), activation='relu'))\n",
    "# model.add(Conv3D(512, kernel_size=(1, 3, 3), activation='relu'))\n",
    "# model.add(MaxPooling3D(pool_size=(1, 2, 2)))\n",
    "# model.add(BatchNormalization())\n",
    "# #model.add(Dropout(0.2))\n",
    "# model.add(Dropout(0.5))\n",
    "\n",
    "# model.add(Flatten())\n",
    "# model.add(Dense(512, activation='relu'))\n",
    "# model.add(BatchNormalization())\n",
    "# model.add(Dense(5, activation='softmax'))"
   ]
  },
  {
   "cell_type": "markdown",
   "metadata": {},
   "source": [
    "### Experiment - 9\n",
    "**Conv3D**"
   ]
  },
  {
   "cell_type": "code",
   "execution_count": 171,
   "metadata": {},
   "outputs": [],
   "source": [
    "# model = Sequential()\n",
    "\n",
    "# model.add(Conv3D(32, kernel_size=3, activation='relu', input_shape=input_shape))\n",
    "# model.add(Conv3D(64, kernel_size=3, activation='relu'))\n",
    "# model.add(MaxPooling3D(pool_size=(2, 2, 2)))\n",
    "# model.add(BatchNormalization())\n",
    "# model.add(Dropout(0.2))\n",
    "\n",
    "# model.add(Conv3D(128, kernel_size=3, activation='relu'))\n",
    "# model.add(MaxPooling3D(pool_size=(1, 2, 2)))\n",
    "# model.add(BatchNormalization())\n",
    "# model.add(Dropout(0.2))\n",
    "\n",
    "# model.add(Conv3D(256, kernel_size=(1, 3, 3), activation='relu'))\n",
    "# model.add(MaxPooling3D(pool_size=(1, 2, 2)))\n",
    "# model.add(BatchNormalization())\n",
    "# model.add(Dropout(0.2))\n",
    "\n",
    "# model.add(Flatten())\n",
    "# model.add(Dense(512, activation='relu'))\n",
    "# model.add(BatchNormalization())\n",
    "# model.add(Dense(5, activation='softmax'))"
   ]
  },
  {
   "cell_type": "markdown",
   "metadata": {},
   "source": [
    "### Experiment - 10\n",
    "**Conv3D**"
   ]
  },
  {
   "cell_type": "code",
   "execution_count": 172,
   "metadata": {},
   "outputs": [],
   "source": [
    "# loss: 0.1388 - categorical_accuracy: 0.9539 - val_loss: 0.1661 - val_categorical_accuracy: 0.9297\n",
    "# model = Sequential()\n",
    "\n",
    "# model.add(Conv3D(32, kernel_size=3, activation='relu', input_shape=input_shape))\n",
    "# model.add(Conv3D(64, kernel_size=3, activation='relu'))\n",
    "# model.add(MaxPooling3D(pool_size=(2, 2, 2)))\n",
    "# model.add(BatchNormalization())\n",
    "# model.add(Dropout(0.2))\n",
    "\n",
    "# model.add(Conv3D(128, kernel_size=3, activation='relu'))\n",
    "# model.add(MaxPooling3D(pool_size=(1, 2, 2)))\n",
    "# model.add(BatchNormalization())\n",
    "# model.add(Dropout(0.2))\n",
    "\n",
    "# model.add(Conv3D(256, kernel_size=(1, 3, 3), activation='relu'))\n",
    "# model.add(MaxPooling3D(pool_size=(1, 2, 2)))\n",
    "# model.add(BatchNormalization())\n",
    "# model.add(Dropout(0.2))\n",
    "\n",
    "# model.add(GlobalAveragePooling3D())\n",
    "# model.add(Dense(512, activation='relu'))\n",
    "# model.add(BatchNormalization())\n",
    "# model.add(Dense(5, activation='softmax'))"
   ]
  },
  {
   "cell_type": "markdown",
   "metadata": {},
   "source": [
    "### Experiment - 11\n",
    "**TimeDistributed Conv2D + GRU**"
   ]
  },
  {
   "cell_type": "code",
   "execution_count": 173,
   "metadata": {},
   "outputs": [],
   "source": [
    "# model = Sequential()\n",
    "# model.add(TimeDistributed(\n",
    "#     Conv2D(32, (3,3), activation='relu'), input_shape=input_shape)\n",
    "# )\n",
    "# model.add(TimeDistributed(\n",
    "#     MaxPooling2D((2,2)))\n",
    "# )\n",
    "# model.add(BatchNormalization())\n",
    "\n",
    "# model.add(TimeDistributed(\n",
    "#     Conv2D(64, (3,3), activation='relu'))\n",
    "# )\n",
    "# model.add(TimeDistributed(\n",
    "#     MaxPooling2D((2,2)))\n",
    "# )\n",
    "# model.add(BatchNormalization())\n",
    "\n",
    "# model.add(TimeDistributed(GlobalAveragePooling2D()))\n",
    "# model.add(TimeDistributed(Dense(64, activation='relu')))\n",
    "# model.add(BatchNormalization())\n",
    "\n",
    "# model.add(GRU(128))\n",
    "# model.add(BatchNormalization())\n",
    "# model.add(Dense(5, activation='softmax'))"
   ]
  },
  {
   "cell_type": "markdown",
   "metadata": {},
   "source": [
    "### Experiment - 12\n",
    "**TimeDistributed Conv2D + GRU**"
   ]
  },
  {
   "cell_type": "code",
   "execution_count": 174,
   "metadata": {},
   "outputs": [],
   "source": [
    "# model = Sequential()\n",
    "# model.add(TimeDistributed(\n",
    "#     Conv2D(32, (3,3), activation='relu'), input_shape=input_shape)\n",
    "# )\n",
    "# model.add(TimeDistributed(\n",
    "#     MaxPooling2D((2,2)))\n",
    "# )\n",
    "# model.add(BatchNormalization())\n",
    "# model.add(Dropout(0.2))\n",
    "\n",
    "# model.add(TimeDistributed(\n",
    "#     Conv2D(64, (3,3), activation='relu'))\n",
    "# )\n",
    "# model.add(TimeDistributed(\n",
    "#     MaxPooling2D((2,2)))\n",
    "# )\n",
    "# model.add(BatchNormalization())\n",
    "# model.add(Dropout(0.2))\n",
    "\n",
    "# model.add(TimeDistributed(GlobalAveragePooling2D()))\n",
    "# model.add(TimeDistributed(Dense(64, activation='relu')))\n",
    "# model.add(BatchNormalization())\n",
    "# model.add(Dropout(0.2))\n",
    "\n",
    "# model.add(GRU(128))\n",
    "# model.add(BatchNormalization())\n",
    "# model.add(Dense(5, activation='softmax'))"
   ]
  },
  {
   "cell_type": "markdown",
   "metadata": {},
   "source": [
    "### Experiment - 13\n",
    "**TimeDistributed Conv2D + Dense**"
   ]
  },
  {
   "cell_type": "code",
   "execution_count": 175,
   "metadata": {},
   "outputs": [],
   "source": [
    "# model = Sequential()\n",
    "# model.add(TimeDistributed(\n",
    "#     Conv2D(32, (3,3), activation='relu'), input_shape=input_shape)\n",
    "# )\n",
    "# model.add(TimeDistributed(\n",
    "#     MaxPooling2D((2,2)))\n",
    "# )\n",
    "# model.add(BatchNormalization())\n",
    "\n",
    "# model.add(TimeDistributed(\n",
    "#     Conv2D(64, (3,3), activation='relu'))\n",
    "# )\n",
    "# model.add(TimeDistributed(\n",
    "#     MaxPooling2D((2,2)))\n",
    "# )\n",
    "# model.add(BatchNormalization())\n",
    "\n",
    "# model.add(TimeDistributed(\n",
    "#     Conv2D(128, (3,3), activation='relu'))\n",
    "# )\n",
    "# model.add(TimeDistributed(\n",
    "#     MaxPooling2D((2,2)))\n",
    "# )\n",
    "# model.add(BatchNormalization())\n",
    "\n",
    "# model.add(GlobalAveragePooling3D())\n",
    "# model.add(Dense(256, activation='relu'))\n",
    "# model.add(BatchNormalization())\n",
    "# model.add(Dense(5, activation='softmax'))"
   ]
  },
  {
   "cell_type": "markdown",
   "metadata": {},
   "source": [
    "### Experiment - 14\n",
    "**TimeDistributed + ConvLSTM2D**"
   ]
  },
  {
   "cell_type": "code",
   "execution_count": 176,
   "metadata": {},
   "outputs": [],
   "source": [
    "# model = Sequential()\n",
    "# model.add(TimeDistributed(\n",
    "#     Conv2D(8, (3,3), activation='relu'), input_shape=input_shape)\n",
    "# )\n",
    "# model.add(BatchNormalization())\n",
    "# model.add(TimeDistributed(\n",
    "#     Conv2D(16, (3,3), activation='relu'))\n",
    "# )\n",
    "# model.add(BatchNormalization())\n",
    "# model.add(\n",
    "#     ConvLSTM2D(8, kernel_size = 3, return_sequences=False)\n",
    "# )\n",
    "# model.add(BatchNormalization())\n",
    "# model.add(TimeDistributed(\n",
    "#     Dense(64, activation='relu'))\n",
    "# )\n",
    "# model.add(BatchNormalization())\n",
    "# model.add(GlobalAveragePooling2D())\n",
    "# model.add(Dense(64, activation='relu'))\n",
    "# model.add(Dense(5, activation='softmax'))"
   ]
  },
  {
   "cell_type": "markdown",
   "metadata": {},
   "source": [
    "# Final Model"
   ]
  },
  {
   "cell_type": "code",
   "execution_count": 177,
   "metadata": {},
   "outputs": [],
   "source": [
    "model = Sequential()\n",
    "model.add(TimeDistributed(\n",
    "    Conv2D(8, (3,3), activation='relu'), input_shape=input_shape)\n",
    ")\n",
    "model.add(BatchNormalization())\n",
    "model.add(TimeDistributed(\n",
    "    Conv2D(16, (3,3), activation='relu'))\n",
    ")\n",
    "\n",
    "model.add(BatchNormalization())\n",
    "model.add(\n",
    "    ConvLSTM2D(8, kernel_size = 3, return_sequences=False)\n",
    ")\n",
    "model.add(BatchNormalization())\n",
    "model.add(TimeDistributed(\n",
    "   Dense(64, activation='relu'))\n",
    ")\n",
    "model.add(BatchNormalization())\n",
    "model.add(GlobalAveragePooling2D())\n",
    "model.add(Dense(64, activation='relu'))\n",
    "model.add(Dense(5, activation='softmax'))"
   ]
  },
  {
   "cell_type": "markdown",
   "metadata": {},
   "source": [
    "Now that you have written the model, the next step is to `compile` the model. When you print the `summary` of the model, you'll see the total number of parameters you have to train."
   ]
  },
  {
   "cell_type": "code",
   "execution_count": 178,
   "metadata": {},
   "outputs": [
    {
     "name": "stdout",
     "output_type": "stream",
     "text": [
      "Model: \"sequential_10\"\n",
      "_________________________________________________________________\n",
      " Layer (type)                Output Shape              Param #   \n",
      "=================================================================\n",
      " time_distributed (TimeDistr  (None, 10, 118, 118, 8)  224       \n",
      " ibuted)                                                         \n",
      "                                                                 \n",
      " batch_normalization (BatchN  (None, 10, 118, 118, 8)  32        \n",
      " ormalization)                                                   \n",
      "                                                                 \n",
      " time_distributed_1 (TimeDis  (None, 10, 116, 116, 16)  1168     \n",
      " tributed)                                                       \n",
      "                                                                 \n",
      " batch_normalization_1 (Batc  (None, 10, 116, 116, 16)  64       \n",
      " hNormalization)                                                 \n",
      "                                                                 \n",
      " conv_lstm2d (ConvLSTM2D)    (None, 114, 114, 8)       6944      \n",
      "                                                                 \n",
      " batch_normalization_2 (Batc  (None, 114, 114, 8)      32        \n",
      " hNormalization)                                                 \n",
      "                                                                 \n",
      " time_distributed_2 (TimeDis  (None, 114, 114, 64)     576       \n",
      " tributed)                                                       \n",
      "                                                                 \n",
      " batch_normalization_3 (Batc  (None, 114, 114, 64)     256       \n",
      " hNormalization)                                                 \n",
      "                                                                 \n",
      " global_average_pooling2d (G  (None, 64)               0         \n",
      " lobalAveragePooling2D)                                          \n",
      "                                                                 \n",
      " dense_7 (Dense)             (None, 64)                4160      \n",
      "                                                                 \n",
      " dense_8 (Dense)             (None, 5)                 325       \n",
      "                                                                 \n",
      "=================================================================\n",
      "Total params: 13,781\n",
      "Trainable params: 13,589\n",
      "Non-trainable params: 192\n",
      "_________________________________________________________________\n",
      "None\n"
     ]
    }
   ],
   "source": [
    "#optimiser = optimizers.Adam(lr=0.01) #write your optimizer\n",
    "optimiser = 'adam'\n",
    "model.compile(optimizer=optimiser, loss='categorical_crossentropy', metrics=['categorical_accuracy'])\n",
    "print(model.summary())"
   ]
  },
  {
   "cell_type": "markdown",
   "metadata": {},
   "source": [
    "Let us create the `train_generator` and the `val_generator` which will be used in `.fit_generator`."
   ]
  },
  {
   "cell_type": "code",
   "execution_count": 179,
   "metadata": {},
   "outputs": [],
   "source": [
    "train_generator = generator(train_path, train_doc, batch_size, is_train = True, augmention = enable_augmentation)\n",
    "val_generator = generator(val_path, val_doc, batch_size)"
   ]
  },
  {
   "cell_type": "code",
   "execution_count": 180,
   "metadata": {},
   "outputs": [
    {
     "name": "stdout",
     "output_type": "stream",
     "text": [
      "WARNING:tensorflow:`period` argument is deprecated. Please use `save_freq` to specify the frequency in number of batches seen.\n"
     ]
    }
   ],
   "source": [
    "model_name = 'model_init_exp_16' + '_' + str(curr_dt_time).replace(' ','').replace(':','_') + '/'\n",
    "\n",
    "if not os.path.exists(model_name):\n",
    "    os.mkdir(model_name)\n",
    "\n",
    "filepath = model_name + 'model-{epoch:05d}-{loss:.5f}-{categorical_accuracy:.5f}-{val_loss:.5f}-{val_categorical_accuracy:.5f}.h5'\n",
    "\n",
    "checkpoint = ModelCheckpoint(filepath, monitor='val_loss', verbose=1, save_best_only=False, save_weights_only=False, mode='auto', period=1)\n",
    "\n",
    "LR = ReduceLROnPlateau(monitor='val_loss', factor=0.2, patience=5, min_lr=0.001, verbose=1) # write the REducelronplateau code here\n",
    "\n",
    "callbacks_list = [checkpoint, LR]"
   ]
  },
  {
   "cell_type": "markdown",
   "metadata": {},
   "source": [
    "The `steps_per_epoch` and `validation_steps` are used by `fit_generator` to decide the number of next() calls it need to make."
   ]
  },
  {
   "cell_type": "code",
   "execution_count": 181,
   "metadata": {},
   "outputs": [],
   "source": [
    "if (num_train_sequences%batch_size) == 0:\n",
    "    steps_per_epoch = int(num_train_sequences/batch_size)\n",
    "else:\n",
    "    steps_per_epoch = (num_train_sequences//batch_size) + 1\n",
    "\n",
    "if (num_val_sequences%batch_size) == 0:\n",
    "    validation_steps = int(num_val_sequences/batch_size)\n",
    "else:\n",
    "    validation_steps = (num_val_sequences//batch_size) + 1"
   ]
  },
  {
   "cell_type": "markdown",
   "metadata": {},
   "source": [
    "Let us now fit the model. This will start training the model and with the help of the checkpoints, you'll be able to save the model at the end of each epoch."
   ]
  },
  {
   "cell_type": "code",
   "execution_count": 182,
   "metadata": {},
   "outputs": [
    {
     "name": "stdout",
     "output_type": "stream",
     "text": [
      "Epoch 1/50\n",
      "21/21 [==============================] - ETA: 0s - loss: 1.4874 - categorical_accuracy: 0.3080\n",
      "Epoch 00001: saving model to model_init_exp_16_2024-12-1104_30_26.766404/model-00001-1.48737-0.30804-1.25451-0.14062.h5\n",
      "21/21 [==============================] - 27s 1s/step - loss: 1.4874 - categorical_accuracy: 0.3080 - val_loss: 1.2545 - val_categorical_accuracy: 0.1406 - lr: 0.0010\n",
      "Epoch 2/50\n",
      "21/21 [==============================] - ETA: 0s - loss: 1.2721 - categorical_accuracy: 0.4539\n",
      "Epoch 00002: saving model to model_init_exp_16_2024-12-1104_30_26.766404/model-00002-1.27205-0.45387-1.23669-0.19531.h5\n",
      "21/21 [==============================] - 24s 1s/step - loss: 1.2721 - categorical_accuracy: 0.4539 - val_loss: 1.2367 - val_categorical_accuracy: 0.1953 - lr: 0.0010\n",
      "Epoch 3/50\n",
      "21/21 [==============================] - ETA: 0s - loss: 1.1732 - categorical_accuracy: 0.5045\n",
      "Epoch 00003: saving model to model_init_exp_16_2024-12-1104_30_26.766404/model-00003-1.17317-0.50446-1.23194-0.28906.h5\n",
      "21/21 [==============================] - 23s 1s/step - loss: 1.1732 - categorical_accuracy: 0.5045 - val_loss: 1.2319 - val_categorical_accuracy: 0.2891 - lr: 0.0010\n",
      "Epoch 4/50\n",
      "21/21 [==============================] - ETA: 0s - loss: 1.0876 - categorical_accuracy: 0.5387\n",
      "Epoch 00004: saving model to model_init_exp_16_2024-12-1104_30_26.766404/model-00004-1.08757-0.53869-1.24403-0.16406.h5\n",
      "21/21 [==============================] - 23s 1s/step - loss: 1.0876 - categorical_accuracy: 0.5387 - val_loss: 1.2440 - val_categorical_accuracy: 0.1641 - lr: 0.0010\n",
      "Epoch 5/50\n",
      "21/21 [==============================] - ETA: 0s - loss: 1.0432 - categorical_accuracy: 0.5595\n",
      "Epoch 00005: saving model to model_init_exp_16_2024-12-1104_30_26.766404/model-00005-1.04319-0.55952-1.27147-0.17188.h5\n",
      "21/21 [==============================] - 23s 1s/step - loss: 1.0432 - categorical_accuracy: 0.5595 - val_loss: 1.2715 - val_categorical_accuracy: 0.1719 - lr: 0.0010\n",
      "Epoch 6/50\n",
      "21/21 [==============================] - ETA: 0s - loss: 0.9971 - categorical_accuracy: 0.5789\n",
      "Epoch 00006: saving model to model_init_exp_16_2024-12-1104_30_26.766404/model-00006-0.99706-0.57887-1.30223-0.15625.h5\n",
      "21/21 [==============================] - 23s 1s/step - loss: 0.9971 - categorical_accuracy: 0.5789 - val_loss: 1.3022 - val_categorical_accuracy: 0.1562 - lr: 0.0010\n",
      "Epoch 7/50\n",
      "21/21 [==============================] - ETA: 0s - loss: 0.9768 - categorical_accuracy: 0.5863\n",
      "Epoch 00007: saving model to model_init_exp_16_2024-12-1104_30_26.766404/model-00007-0.97677-0.58631-1.34034-0.15625.h5\n",
      "21/21 [==============================] - 24s 1s/step - loss: 0.9768 - categorical_accuracy: 0.5863 - val_loss: 1.3403 - val_categorical_accuracy: 0.1562 - lr: 0.0010\n",
      "Epoch 8/50\n",
      "21/21 [==============================] - ETA: 0s - loss: 0.9486 - categorical_accuracy: 0.5982\n",
      "Epoch 00008: saving model to model_init_exp_16_2024-12-1104_30_26.766404/model-00008-0.94863-0.59821-1.76373-0.16406.h5\n",
      "21/21 [==============================] - 23s 1s/step - loss: 0.9486 - categorical_accuracy: 0.5982 - val_loss: 1.7637 - val_categorical_accuracy: 0.1641 - lr: 0.0010\n",
      "Epoch 9/50\n",
      "21/21 [==============================] - ETA: 0s - loss: 0.8725 - categorical_accuracy: 0.6324\n",
      "Epoch 00009: saving model to model_init_exp_16_2024-12-1104_30_26.766404/model-00009-0.87251-0.63244-1.65050-0.16406.h5\n",
      "21/21 [==============================] - 24s 1s/step - loss: 0.8725 - categorical_accuracy: 0.6324 - val_loss: 1.6505 - val_categorical_accuracy: 0.1641 - lr: 0.0010\n",
      "Epoch 10/50\n",
      "21/21 [==============================] - ETA: 0s - loss: 0.8264 - categorical_accuracy: 0.6607\n",
      "Epoch 00010: saving model to model_init_exp_16_2024-12-1104_30_26.766404/model-00010-0.82635-0.66071-2.16656-0.17188.h5\n",
      "21/21 [==============================] - 24s 1s/step - loss: 0.8264 - categorical_accuracy: 0.6607 - val_loss: 2.1666 - val_categorical_accuracy: 0.1719 - lr: 0.0010\n",
      "Epoch 11/50\n",
      "21/21 [==============================] - ETA: 0s - loss: 0.7812 - categorical_accuracy: 0.6815\n",
      "Epoch 00011: saving model to model_init_exp_16_2024-12-1104_30_26.766404/model-00011-0.78120-0.68155-2.20427-0.17188.h5\n",
      "21/21 [==============================] - 23s 1s/step - loss: 0.7812 - categorical_accuracy: 0.6815 - val_loss: 2.2043 - val_categorical_accuracy: 0.1719 - lr: 0.0010\n",
      "Epoch 12/50\n",
      "21/21 [==============================] - ETA: 0s - loss: 0.7782 - categorical_accuracy: 0.6533\n",
      "Epoch 00012: saving model to model_init_exp_16_2024-12-1104_30_26.766404/model-00012-0.77819-0.65327-2.29670-0.17188.h5\n",
      "21/21 [==============================] - 23s 1s/step - loss: 0.7782 - categorical_accuracy: 0.6533 - val_loss: 2.2967 - val_categorical_accuracy: 0.1719 - lr: 0.0010\n",
      "Epoch 13/50\n",
      "21/21 [==============================] - ETA: 0s - loss: 0.7395 - categorical_accuracy: 0.6920\n",
      "Epoch 00013: saving model to model_init_exp_16_2024-12-1104_30_26.766404/model-00013-0.73951-0.69196-2.73406-0.15625.h5\n",
      "21/21 [==============================] - 24s 1s/step - loss: 0.7395 - categorical_accuracy: 0.6920 - val_loss: 2.7341 - val_categorical_accuracy: 0.1562 - lr: 0.0010\n",
      "Epoch 14/50\n",
      "21/21 [==============================] - ETA: 0s - loss: 0.7113 - categorical_accuracy: 0.6935\n",
      "Epoch 00014: saving model to model_init_exp_16_2024-12-1104_30_26.766404/model-00014-0.71131-0.69345-2.81945-0.19531.h5\n",
      "21/21 [==============================] - 23s 1s/step - loss: 0.7113 - categorical_accuracy: 0.6935 - val_loss: 2.8195 - val_categorical_accuracy: 0.1953 - lr: 0.0010\n",
      "Epoch 15/50\n",
      "21/21 [==============================] - ETA: 0s - loss: 0.6763 - categorical_accuracy: 0.7217\n",
      "Epoch 00015: saving model to model_init_exp_16_2024-12-1104_30_26.766404/model-00015-0.67635-0.72173-2.30844-0.16406.h5\n",
      "21/21 [==============================] - 23s 1s/step - loss: 0.6763 - categorical_accuracy: 0.7217 - val_loss: 2.3084 - val_categorical_accuracy: 0.1641 - lr: 0.0010\n",
      "Epoch 16/50\n",
      "21/21 [==============================] - ETA: 0s - loss: 0.6848 - categorical_accuracy: 0.7292\n",
      "Epoch 00016: saving model to model_init_exp_16_2024-12-1104_30_26.766404/model-00016-0.68477-0.72917-2.41618-0.14844.h5\n",
      "21/21 [==============================] - 23s 1s/step - loss: 0.6848 - categorical_accuracy: 0.7292 - val_loss: 2.4162 - val_categorical_accuracy: 0.1484 - lr: 0.0010\n",
      "Epoch 17/50\n",
      "21/21 [==============================] - ETA: 0s - loss: 0.6408 - categorical_accuracy: 0.7351\n",
      "Epoch 00017: saving model to model_init_exp_16_2024-12-1104_30_26.766404/model-00017-0.64079-0.73512-2.30111-0.21094.h5\n",
      "21/21 [==============================] - 24s 1s/step - loss: 0.6408 - categorical_accuracy: 0.7351 - val_loss: 2.3011 - val_categorical_accuracy: 0.2109 - lr: 0.0010\n",
      "Epoch 18/50\n",
      "21/21 [==============================] - ETA: 0s - loss: 0.6460 - categorical_accuracy: 0.7188\n",
      "Epoch 00018: saving model to model_init_exp_16_2024-12-1104_30_26.766404/model-00018-0.64596-0.71875-2.71488-0.18750.h5\n",
      "21/21 [==============================] - 24s 1s/step - loss: 0.6460 - categorical_accuracy: 0.7188 - val_loss: 2.7149 - val_categorical_accuracy: 0.1875 - lr: 0.0010\n",
      "Epoch 19/50\n",
      "21/21 [==============================] - ETA: 0s - loss: 0.6177 - categorical_accuracy: 0.7634\n",
      "Epoch 00019: saving model to model_init_exp_16_2024-12-1104_30_26.766404/model-00019-0.61766-0.76339-1.65692-0.28125.h5\n",
      "21/21 [==============================] - 23s 1s/step - loss: 0.6177 - categorical_accuracy: 0.7634 - val_loss: 1.6569 - val_categorical_accuracy: 0.2812 - lr: 0.0010\n",
      "Epoch 20/50\n",
      "21/21 [==============================] - ETA: 0s - loss: 0.6352 - categorical_accuracy: 0.7188\n",
      "Epoch 00020: saving model to model_init_exp_16_2024-12-1104_30_26.766404/model-00020-0.63519-0.71875-1.59928-0.31250.h5\n",
      "21/21 [==============================] - 23s 1s/step - loss: 0.6352 - categorical_accuracy: 0.7188 - val_loss: 1.5993 - val_categorical_accuracy: 0.3125 - lr: 0.0010\n",
      "Epoch 21/50\n",
      "21/21 [==============================] - ETA: 0s - loss: 0.5888 - categorical_accuracy: 0.7604\n",
      "Epoch 00021: saving model to model_init_exp_16_2024-12-1104_30_26.766404/model-00021-0.58876-0.76042-1.92801-0.27344.h5\n",
      "21/21 [==============================] - 24s 1s/step - loss: 0.5888 - categorical_accuracy: 0.7604 - val_loss: 1.9280 - val_categorical_accuracy: 0.2734 - lr: 0.0010\n",
      "Epoch 22/50\n",
      "21/21 [==============================] - ETA: 0s - loss: 0.5586 - categorical_accuracy: 0.7664\n",
      "Epoch 00022: saving model to model_init_exp_16_2024-12-1104_30_26.766404/model-00022-0.55860-0.76637-2.18162-0.28125.h5\n",
      "21/21 [==============================] - 24s 1s/step - loss: 0.5586 - categorical_accuracy: 0.7664 - val_loss: 2.1816 - val_categorical_accuracy: 0.2812 - lr: 0.0010\n",
      "Epoch 23/50\n",
      "21/21 [==============================] - ETA: 0s - loss: 0.5575 - categorical_accuracy: 0.7753\n",
      "Epoch 00023: saving model to model_init_exp_16_2024-12-1104_30_26.766404/model-00023-0.55755-0.77530-1.45323-0.29688.h5\n",
      "21/21 [==============================] - 24s 1s/step - loss: 0.5575 - categorical_accuracy: 0.7753 - val_loss: 1.4532 - val_categorical_accuracy: 0.2969 - lr: 0.0010\n",
      "Epoch 24/50\n",
      "21/21 [==============================] - ETA: 0s - loss: 0.5784 - categorical_accuracy: 0.7589\n",
      "Epoch 00024: saving model to model_init_exp_16_2024-12-1104_30_26.766404/model-00024-0.57839-0.75893-1.15864-0.57812.h5\n",
      "21/21 [==============================] - 23s 1s/step - loss: 0.5784 - categorical_accuracy: 0.7589 - val_loss: 1.1586 - val_categorical_accuracy: 0.5781 - lr: 0.0010\n",
      "Epoch 25/50\n",
      "21/21 [==============================] - ETA: 0s - loss: 0.5950 - categorical_accuracy: 0.7366\n",
      "Epoch 00025: saving model to model_init_exp_16_2024-12-1104_30_26.766404/model-00025-0.59498-0.73661-1.28098-0.54688.h5\n",
      "21/21 [==============================] - 23s 1s/step - loss: 0.5950 - categorical_accuracy: 0.7366 - val_loss: 1.2810 - val_categorical_accuracy: 0.5469 - lr: 0.0010\n",
      "Epoch 26/50\n",
      "21/21 [==============================] - ETA: 0s - loss: 0.5503 - categorical_accuracy: 0.7708\n",
      "Epoch 00026: saving model to model_init_exp_16_2024-12-1104_30_26.766404/model-00026-0.55029-0.77083-1.20139-0.40625.h5\n",
      "21/21 [==============================] - 23s 1s/step - loss: 0.5503 - categorical_accuracy: 0.7708 - val_loss: 1.2014 - val_categorical_accuracy: 0.4062 - lr: 0.0010\n",
      "Epoch 27/50\n",
      "21/21 [==============================] - ETA: 0s - loss: 0.5357 - categorical_accuracy: 0.7411\n",
      "Epoch 00027: saving model to model_init_exp_16_2024-12-1104_30_26.766404/model-00027-0.53569-0.74107-1.27616-0.53125.h5\n",
      "21/21 [==============================] - 24s 1s/step - loss: 0.5357 - categorical_accuracy: 0.7411 - val_loss: 1.2762 - val_categorical_accuracy: 0.5312 - lr: 0.0010\n",
      "Epoch 28/50\n",
      "21/21 [==============================] - ETA: 0s - loss: 0.5114 - categorical_accuracy: 0.7917\n",
      "Epoch 00028: saving model to model_init_exp_16_2024-12-1104_30_26.766404/model-00028-0.51139-0.79167-0.68329-0.71875.h5\n",
      "21/21 [==============================] - 22s 1s/step - loss: 0.5114 - categorical_accuracy: 0.7917 - val_loss: 0.6833 - val_categorical_accuracy: 0.7188 - lr: 0.0010\n",
      "Epoch 29/50\n",
      "21/21 [==============================] - ETA: 0s - loss: 0.5041 - categorical_accuracy: 0.7872\n",
      "Epoch 00029: saving model to model_init_exp_16_2024-12-1104_30_26.766404/model-00029-0.50405-0.78720-1.31782-0.57031.h5\n",
      "21/21 [==============================] - 24s 1s/step - loss: 0.5041 - categorical_accuracy: 0.7872 - val_loss: 1.3178 - val_categorical_accuracy: 0.5703 - lr: 0.0010\n",
      "Epoch 30/50\n",
      "21/21 [==============================] - ETA: 0s - loss: 0.4750 - categorical_accuracy: 0.8155\n",
      "Epoch 00030: saving model to model_init_exp_16_2024-12-1104_30_26.766404/model-00030-0.47503-0.81548-0.88359-0.67969.h5\n",
      "21/21 [==============================] - 24s 1s/step - loss: 0.4750 - categorical_accuracy: 0.8155 - val_loss: 0.8836 - val_categorical_accuracy: 0.6797 - lr: 0.0010\n",
      "Epoch 31/50\n",
      "21/21 [==============================] - ETA: 0s - loss: 0.4621 - categorical_accuracy: 0.7857\n",
      "Epoch 00031: saving model to model_init_exp_16_2024-12-1104_30_26.766404/model-00031-0.46210-0.78571-0.82939-0.69531.h5\n",
      "21/21 [==============================] - 25s 1s/step - loss: 0.4621 - categorical_accuracy: 0.7857 - val_loss: 0.8294 - val_categorical_accuracy: 0.6953 - lr: 0.0010\n",
      "Epoch 32/50\n",
      "21/21 [==============================] - ETA: 0s - loss: 0.4536 - categorical_accuracy: 0.8274\n",
      "Epoch 00032: saving model to model_init_exp_16_2024-12-1104_30_26.766404/model-00032-0.45362-0.82738-1.12326-0.65625.h5\n",
      "21/21 [==============================] - 23s 1s/step - loss: 0.4536 - categorical_accuracy: 0.8274 - val_loss: 1.1233 - val_categorical_accuracy: 0.6562 - lr: 0.0010\n",
      "Epoch 33/50\n",
      "21/21 [==============================] - ETA: 0s - loss: 0.4556 - categorical_accuracy: 0.7961\n",
      "Epoch 00033: saving model to model_init_exp_16_2024-12-1104_30_26.766404/model-00033-0.45557-0.79613-0.56050-0.75781.h5\n",
      "21/21 [==============================] - 23s 1s/step - loss: 0.4556 - categorical_accuracy: 0.7961 - val_loss: 0.5605 - val_categorical_accuracy: 0.7578 - lr: 0.0010\n",
      "Epoch 34/50\n",
      "21/21 [==============================] - ETA: 0s - loss: 0.4365 - categorical_accuracy: 0.8274\n",
      "Epoch 00034: saving model to model_init_exp_16_2024-12-1104_30_26.766404/model-00034-0.43649-0.82738-0.57359-0.74219.h5\n",
      "21/21 [==============================] - 24s 1s/step - loss: 0.4365 - categorical_accuracy: 0.8274 - val_loss: 0.5736 - val_categorical_accuracy: 0.7422 - lr: 0.0010\n",
      "Epoch 35/50\n",
      "21/21 [==============================] - ETA: 0s - loss: 0.4287 - categorical_accuracy: 0.8080\n",
      "Epoch 00035: saving model to model_init_exp_16_2024-12-1104_30_26.766404/model-00035-0.42872-0.80804-0.54291-0.76562.h5\n",
      "21/21 [==============================] - 24s 1s/step - loss: 0.4287 - categorical_accuracy: 0.8080 - val_loss: 0.5429 - val_categorical_accuracy: 0.7656 - lr: 0.0010\n",
      "Epoch 36/50\n",
      "21/21 [==============================] - ETA: 0s - loss: 0.4856 - categorical_accuracy: 0.7887\n",
      "Epoch 00036: saving model to model_init_exp_16_2024-12-1104_30_26.766404/model-00036-0.48558-0.78869-0.56854-0.79688.h5\n",
      "21/21 [==============================] - 23s 1s/step - loss: 0.4856 - categorical_accuracy: 0.7887 - val_loss: 0.5685 - val_categorical_accuracy: 0.7969 - lr: 0.0010\n",
      "Epoch 37/50\n",
      "21/21 [==============================] - ETA: 0s - loss: 0.3959 - categorical_accuracy: 0.8497\n",
      "Epoch 00037: saving model to model_init_exp_16_2024-12-1104_30_26.766404/model-00037-0.39587-0.84970-0.36460-0.89062.h5\n",
      "21/21 [==============================] - 24s 1s/step - loss: 0.3959 - categorical_accuracy: 0.8497 - val_loss: 0.3646 - val_categorical_accuracy: 0.8906 - lr: 0.0010\n",
      "Epoch 38/50\n",
      "21/21 [==============================] - ETA: 0s - loss: 0.4434 - categorical_accuracy: 0.8155\n",
      "Epoch 00038: saving model to model_init_exp_16_2024-12-1104_30_26.766404/model-00038-0.44338-0.81548-2.07041-0.53125.h5\n",
      "21/21 [==============================] - 24s 1s/step - loss: 0.4434 - categorical_accuracy: 0.8155 - val_loss: 2.0704 - val_categorical_accuracy: 0.5312 - lr: 0.0010\n",
      "Epoch 39/50\n",
      "21/21 [==============================] - ETA: 0s - loss: 0.4654 - categorical_accuracy: 0.7932\n",
      "Epoch 00039: saving model to model_init_exp_16_2024-12-1104_30_26.766404/model-00039-0.46545-0.79315-0.91144-0.66406.h5\n",
      "21/21 [==============================] - 24s 1s/step - loss: 0.4654 - categorical_accuracy: 0.7932 - val_loss: 0.9114 - val_categorical_accuracy: 0.6641 - lr: 0.0010\n",
      "Epoch 40/50\n",
      "21/21 [==============================] - ETA: 0s - loss: 0.4757 - categorical_accuracy: 0.8214\n",
      "Epoch 00040: saving model to model_init_exp_16_2024-12-1104_30_26.766404/model-00040-0.47566-0.82143-0.44279-0.85156.h5\n",
      "21/21 [==============================] - 23s 1s/step - loss: 0.4757 - categorical_accuracy: 0.8214 - val_loss: 0.4428 - val_categorical_accuracy: 0.8516 - lr: 0.0010\n",
      "Epoch 41/50\n",
      "21/21 [==============================] - ETA: 0s - loss: 0.4252 - categorical_accuracy: 0.8125\n",
      "Epoch 00041: saving model to model_init_exp_16_2024-12-1104_30_26.766404/model-00041-0.42518-0.81250-0.83218-0.70312.h5\n",
      "21/21 [==============================] - 24s 1s/step - loss: 0.4252 - categorical_accuracy: 0.8125 - val_loss: 0.8322 - val_categorical_accuracy: 0.7031 - lr: 0.0010\n",
      "Epoch 42/50\n",
      "21/21 [==============================] - ETA: 0s - loss: 0.4612 - categorical_accuracy: 0.8110\n",
      "Epoch 00042: saving model to model_init_exp_16_2024-12-1104_30_26.766404/model-00042-0.46115-0.81101-0.59900-0.80469.h5\n",
      "21/21 [==============================] - 24s 1s/step - loss: 0.4612 - categorical_accuracy: 0.8110 - val_loss: 0.5990 - val_categorical_accuracy: 0.8047 - lr: 0.0010\n",
      "Epoch 43/50\n",
      "21/21 [==============================] - ETA: 0s - loss: 0.4146 - categorical_accuracy: 0.8214\n",
      "Epoch 00043: saving model to model_init_exp_16_2024-12-1104_30_26.766404/model-00043-0.41456-0.82143-0.73856-0.78125.h5\n",
      "21/21 [==============================] - 24s 1s/step - loss: 0.4146 - categorical_accuracy: 0.8214 - val_loss: 0.7386 - val_categorical_accuracy: 0.7812 - lr: 0.0010\n",
      "Epoch 44/50\n",
      "21/21 [==============================] - ETA: 0s - loss: 0.3932 - categorical_accuracy: 0.8274\n",
      "Epoch 00044: saving model to model_init_exp_16_2024-12-1104_30_26.766404/model-00044-0.39316-0.82738-0.44853-0.85938.h5\n",
      "21/21 [==============================] - 23s 1s/step - loss: 0.3932 - categorical_accuracy: 0.8274 - val_loss: 0.4485 - val_categorical_accuracy: 0.8594 - lr: 0.0010\n",
      "Epoch 45/50\n",
      "21/21 [==============================] - ETA: 0s - loss: 0.4355 - categorical_accuracy: 0.8140\n",
      "Epoch 00045: saving model to model_init_exp_16_2024-12-1104_30_26.766404/model-00045-0.43553-0.81399-0.76353-0.72656.h5\n",
      "21/21 [==============================] - 24s 1s/step - loss: 0.4355 - categorical_accuracy: 0.8140 - val_loss: 0.7635 - val_categorical_accuracy: 0.7266 - lr: 0.0010\n",
      "Epoch 46/50\n",
      "21/21 [==============================] - ETA: 0s - loss: 0.4357 - categorical_accuracy: 0.8036\n",
      "Epoch 00046: saving model to model_init_exp_16_2024-12-1104_30_26.766404/model-00046-0.43569-0.80357-0.45818-0.80469.h5\n",
      "21/21 [==============================] - 24s 1s/step - loss: 0.4357 - categorical_accuracy: 0.8036 - val_loss: 0.4582 - val_categorical_accuracy: 0.8047 - lr: 0.0010\n",
      "Epoch 47/50\n",
      "21/21 [==============================] - ETA: 0s - loss: 0.4756 - categorical_accuracy: 0.7783\n",
      "Epoch 00047: saving model to model_init_exp_16_2024-12-1104_30_26.766404/model-00047-0.47560-0.77827-0.42820-0.90625.h5\n",
      "21/21 [==============================] - 24s 1s/step - loss: 0.4756 - categorical_accuracy: 0.7783 - val_loss: 0.4282 - val_categorical_accuracy: 0.9062 - lr: 0.0010\n",
      "Epoch 48/50\n",
      "21/21 [==============================] - ETA: 0s - loss: 0.4587 - categorical_accuracy: 0.8140\n",
      "Epoch 00048: saving model to model_init_exp_16_2024-12-1104_30_26.766404/model-00048-0.45869-0.81399-0.35749-0.89062.h5\n",
      "21/21 [==============================] - 23s 1s/step - loss: 0.4587 - categorical_accuracy: 0.8140 - val_loss: 0.3575 - val_categorical_accuracy: 0.8906 - lr: 0.0010\n",
      "Epoch 49/50\n",
      "21/21 [==============================] - ETA: 0s - loss: 0.4168 - categorical_accuracy: 0.8393\n",
      "Epoch 00049: saving model to model_init_exp_16_2024-12-1104_30_26.766404/model-00049-0.41678-0.83929-0.47633-0.82812.h5\n",
      "21/21 [==============================] - 24s 1s/step - loss: 0.4168 - categorical_accuracy: 0.8393 - val_loss: 0.4763 - val_categorical_accuracy: 0.8281 - lr: 0.0010\n",
      "Epoch 50/50\n",
      "21/21 [==============================] - ETA: 0s - loss: 0.4067 - categorical_accuracy: 0.8110\n",
      "Epoch 00050: saving model to model_init_exp_16_2024-12-1104_30_26.766404/model-00050-0.40669-0.81101-0.40498-0.84375.h5\n",
      "21/21 [==============================] - 24s 1s/step - loss: 0.4067 - categorical_accuracy: 0.8110 - val_loss: 0.4050 - val_categorical_accuracy: 0.8438 - lr: 0.0010\n"
     ]
    }
   ],
   "source": [
    "history = model.fit_generator(train_generator, steps_per_epoch=steps_per_epoch, epochs=num_epochs, verbose=1, \n",
    "                        callbacks=callbacks_list, validation_data=val_generator, \n",
    "                        validation_steps=validation_steps, class_weight=None, workers=1, initial_epoch=0)"
   ]
  },
  {
   "cell_type": "code",
   "execution_count": 183,
   "metadata": {},
   "outputs": [
    {
     "data": {
      "text/plain": [
       "<matplotlib.legend.Legend at 0x7fcb89c3ff40>"
      ]
     },
     "execution_count": 183,
     "metadata": {},
     "output_type": "execute_result"
    },
    {
     "data": {
      "image/png": "[encoded data removed]",
      "text/plain": [
       "<Figure size 1440x432 with 2 Axes>"
      ]
     },
     "metadata": {
      "needs_background": "light"
     },
     "output_type": "display_data"
    }
   ],
   "source": [
    "plt.figure(figsize=(20,6))\n",
    "ax1 = plt.subplot(121)\n",
    "ax1 = plt.plot(history.history['loss'])\n",
    "ax1 = plt.plot(history.history['val_loss'])\n",
    "plt.title('model loss')\n",
    "plt.ylabel('loss')\n",
    "plt.xlabel('epoch')\n",
    "plt.legend(['train', 'validation'], loc='lower left')\n",
    "ax2 = plt.subplot(122)\n",
    "ax2 = plt.plot(history.history['categorical_accuracy'])\n",
    "ax2 = plt.plot(history.history['val_categorical_accuracy'])\n",
    "plt.title('model accuracy')\n",
    "plt.ylabel('categorical_accuracy')\n",
    "plt.xlabel('epoch')\n",
    "plt.legend(['train', 'validation'], loc='lower left')"
   ]
  },
  {
   "cell_type": "code",
   "execution_count": null,
   "metadata": {},
   "outputs": [],
   "source": []
  }
 ],
 "metadata": {
  "kernelspec": {
   "display_name": "Python 3 (ipykernel)",
   "language": "python",
   "name": "python3"
  },
  "language_info": {
   "codemirror_mode": {
    "name": "ipython",
    "version": 3
   },
   "file_extension": ".py",
   "mimetype": "text/x-python",
   "name": "python",
   "nbconvert_exporter": "python",
   "pygments_lexer": "ipython3",
   "version": "3.8.10"
  }
 },
 "nbformat": 4,
 "nbformat_minor": 4
}
